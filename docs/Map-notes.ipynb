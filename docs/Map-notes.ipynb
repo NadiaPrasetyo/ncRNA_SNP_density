{
 "cells": [
  {
   "cell_type": "code",
   "execution_count": null,
   "metadata": {},
   "outputs": [
    {
     "name": "stdout",
     "output_type": "stream",
     "text": [
      "\n",
      "Gene: BLACE, ({'Chromosome': 'chr7', 'Position': '155367809-155367933'})\n",
      "   Chromosome             Position Mapped Chromosome  Mapped Position\n",
      "0        chr7  155367809-155367933              chr1         34246237\n",
      "11       chr7  155367809-155367933              chr2        230124893\n",
      "14       chr7  155367809-155367933              chr3        109484133\n",
      "15       chr7  155367809-155367933              chr4         86253850\n",
      "16       chr7  155367809-155367933              chr5         44688516\n",
      "17       chr7  155367809-155367933              chr6        129640543\n",
      "18       chr7  155367809-155367933              chr7        160791435\n",
      "19       chr7  155367809-155367933              chr8         31930484\n",
      "20       chr7  155367809-155367933              chr9         95861852\n",
      "1        chr7  155367809-155367933             chr10        100403328\n",
      "2        chr7  155367809-155367933             chr11         76641106\n",
      "3        chr7  155367809-155367933             chr12         98899542\n",
      "4        chr7  155367809-155367933             chr13         46452310\n",
      "5        chr7  155367809-155367933             chr14         66529225\n",
      "6        chr7  155367809-155367933             chr15         91751148\n",
      "7        chr7  155367809-155367933             chr16          5444152\n",
      "8        chr7  155367809-155367933             chr17         34021640\n",
      "9        chr7  155367809-155367933             chr18         13474122\n",
      "10       chr7  155367809-155367933             chr19         22846119\n",
      "12       chr7  155367809-155367933             chr20         49102948\n",
      "13       chr7  155367809-155367933             chr22         41883530\n"
     ]
    }
   ],
   "source": [
    "# Pangenome mapping of genes:\n",
    "\n",
    "import pandas as pd\n",
    "import numpy as np\n",
    "import matplotlib.pyplot as plt\n",
    "import seaborn as sns\n",
    "\n",
    "path = \"../results/aligned_genes_summary.csv\"\n",
    "\n",
    "# Read the CSV file into a DataFrame\n",
    "df = pd.read_csv(path)\n",
    "\n",
    "# Convert the 'Mapped Chromosome' to a categorical type for proper sorting\n",
    "df['Mapped Chromosome'] = pd.Categorical(df['Mapped Chromosome'], \n",
    "                                          categories=['chr1', 'chr2', 'chr3', 'chr4', 'chr5', 'chr6', 'chr7', 'chr8', 'chr9', \n",
    "                                                      'chr10', 'chr11', 'chr12', 'chr13', 'chr14', 'chr15', 'chr16', 'chr17', \n",
    "                                                      'chr18', 'chr19', 'chr20', 'chr21', 'chr22', 'chrX', 'chrY'], \n",
    "                                          ordered=True)\n",
    "\n",
    "# Group by Gene\n",
    "grouped = df.groupby('Gene')\n",
    "\n",
    "# Function to display specific gene tables\n",
    "def display_gene_table(gene=None):\n",
    "    if gene:\n",
    "        # Display only the selected gene\n",
    "        if gene in grouped.groups:\n",
    "            group = grouped.get_group(gene)\n",
    "            sorted_group = group.sort_values(by='Mapped Chromosome')\n",
    "            print(f\"\\nGene: {gene}, ({sorted_group.iloc[1][['Chromosome', 'Position']].to_dict()})\")\n",
    "            print(sorted_group[['Mapped Chromosome', 'Mapped Position']])\n",
    "        else:\n",
    "            print(f\"Gene '{gene}' not found.\")\n",
    "    else:\n",
    "        # Display all genes if no specific gene is chosen\n",
    "        for gene, group in grouped:\n",
    "            sorted_group = group.sort_values(by='Mapped Chromosome')\n",
    "            print(f\"\\nGene: {gene}({sorted_group.iloc[1][['Chromosome', 'Position']].to_dict()})\")\n",
    "            print(sorted_group[['Mapped Chromosome', 'Mapped Position']])\n",
    "\n",
    "# Example usage:\n",
    "# To print all genes\n",
    "# display_gene_table()\n",
    "\n",
    "# To print a specific gene (e.g., 'BLACE')\n",
    "display_gene_table('BLACE')\n",
    "\n"
   ]
  },
  {
   "cell_type": "code",
   "execution_count": null,
   "metadata": {},
   "outputs": [],
   "source": []
  }
 ],
 "metadata": {
  "kernelspec": {
   "display_name": ".venv",
   "language": "python",
   "name": "python3"
  },
  "language_info": {
   "codemirror_mode": {
    "name": "ipython",
    "version": 3
   },
   "file_extension": ".py",
   "mimetype": "text/x-python",
   "name": "python",
   "nbconvert_exporter": "python",
   "pygments_lexer": "ipython3",
   "version": "3.10.12"
  }
 },
 "nbformat": 4,
 "nbformat_minor": 2
}
